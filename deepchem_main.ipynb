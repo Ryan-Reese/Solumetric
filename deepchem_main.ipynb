{
 "cells": [
  {
   "cell_type": "code",
   "execution_count": 1,
   "id": "1c054505-7c07-4543-ad8b-5b55f4589abc",
   "metadata": {},
   "outputs": [
    {
     "name": "stderr",
     "output_type": "stream",
     "text": [
      "No normalization for SPS. Feature removed!\n",
      "No normalization for AvgIpc. Feature removed!\n",
      "No normalization for NumAmideBonds. Feature removed!\n",
      "No normalization for NumAtomStereoCenters. Feature removed!\n",
      "No normalization for NumBridgeheadAtoms. Feature removed!\n",
      "No normalization for NumHeterocycles. Feature removed!\n",
      "No normalization for NumSpiroAtoms. Feature removed!\n",
      "No normalization for NumUnspecifiedAtomStereoCenters. Feature removed!\n",
      "No normalization for Phi. Feature removed!\n",
      "Skipped loading some Tensorflow models, missing a dependency. No module named 'tensorflow'\n",
      "/home/rmrr/.conda/envs/deepchem/lib/python3.11/site-packages/pydantic/_internal/_generate_schema.py:2249: UnsupportedFieldAttributeWarning: The 'repr' attribute with value False was provided to the `Field()` function, which has no effect in the context it was used. 'repr' is field-specific metadata, and can only be attached to a model field using `Annotated` metadata or by assignment. This may have happened because an `Annotated` type alias using the `type` statement was used, or if the `Field()` function was attached to a single member of a union type.\n",
      "  warnings.warn(\n",
      "/home/rmrr/.conda/envs/deepchem/lib/python3.11/site-packages/pydantic/_internal/_generate_schema.py:2249: UnsupportedFieldAttributeWarning: The 'frozen' attribute with value True was provided to the `Field()` function, which has no effect in the context it was used. 'frozen' is field-specific metadata, and can only be attached to a model field using `Annotated` metadata or by assignment. This may have happened because an `Annotated` type alias using the `type` statement was used, or if the `Field()` function was attached to a single member of a union type.\n",
      "  warnings.warn(\n",
      "Skipped loading modules with pytorch-geometric dependency, missing a dependency. No module named 'torch_geometric'\n",
      "Skipped loading modules with transformers dependency. No module named 'transformers'\n",
      "cannot import name 'HuggingFaceModel' from 'deepchem.models.torch_models' (/home/rmrr/.conda/envs/deepchem/lib/python3.11/site-packages/deepchem/models/torch_models/__init__.py)\n",
      "Skipped loading modules with pytorch-geometric dependency, missing a dependency. cannot import name 'DMPNN' from 'deepchem.models.torch_models' (/home/rmrr/.conda/envs/deepchem/lib/python3.11/site-packages/deepchem/models/torch_models/__init__.py)\n",
      "Skipped loading modules with pytorch-lightning dependency, missing a dependency. No module named 'lightning'\n",
      "Skipped loading some Jax models, missing a dependency. No module named 'jax'\n",
      "Skipped loading some PyTorch models, missing a dependency. No module named 'tensorflow'\n"
     ]
    }
   ],
   "source": [
    "import deepchem as dc\n",
    "import numpy as np\n",
    "import pandas as pd\n",
    "import torch\n",
    "\n",
    "import warnings\n",
    "warnings.filterwarnings(\"once\")"
   ]
  },
  {
   "cell_type": "code",
   "execution_count": 2,
   "id": "3a64b157-52a6-4d26-9617-cb44eb6cef72",
   "metadata": {},
   "outputs": [
    {
     "data": {
      "text/plain": [
       "'2.8.0'"
      ]
     },
     "execution_count": 2,
     "metadata": {},
     "output_type": "execute_result"
    }
   ],
   "source": [
    "dc.__version__"
   ]
  },
  {
   "cell_type": "code",
   "execution_count": 3,
   "id": "7bddbb2d-4a06-4f22-b2ec-ffa83a9c16fb",
   "metadata": {},
   "outputs": [
    {
     "data": {
      "text/plain": [
       "((50, 10), (50,))"
      ]
     },
     "execution_count": 3,
     "metadata": {},
     "output_type": "execute_result"
    }
   ],
   "source": [
    "N_samples = 50\n",
    "n_features = 10\n",
    "X = np.random.rand(N_samples, n_features)\n",
    "y = np.random.rand(N_samples)\n",
    "dataset = dc.data.NumpyDataset(X, y)\n",
    "dataset.X.shape, dataset.y.shape"
   ]
  },
  {
   "cell_type": "code",
   "execution_count": 4,
   "id": "f2081dc3-30d9-4eea-a6af-f14262ea3426",
   "metadata": {},
   "outputs": [
    {
     "name": "stderr",
     "output_type": "stream",
     "text": [
      "[16:13:14] DEPRECATION WARNING: please use MorganGenerator\n",
      "[16:13:14] DEPRECATION WARNING: please use MorganGenerator\n",
      "[16:13:14] DEPRECATION WARNING: please use MorganGenerator\n",
      "[16:13:14] DEPRECATION WARNING: please use MorganGenerator\n",
      "[16:13:14] DEPRECATION WARNING: please use MorganGenerator\n"
     ]
    },
    {
     "data": {
      "text/plain": [
       "(5, 1024)"
      ]
     },
     "execution_count": 4,
     "metadata": {},
     "output_type": "execute_result"
    }
   ],
   "source": [
    "smiles = [\n",
    "  'O=Cc1ccc(O)c(OC)c1',\n",
    "  'CN1CCC[C@H]1c2cccnc2',\n",
    "  'C1CCCCC1',\n",
    "  'c1ccccc1',\n",
    "  'CC(=O)O',\n",
    "]\n",
    "\n",
    "properties = [0.4, -1.5, 3.2, -0.2, 1.7]\n",
    "featurizer = dc.feat.CircularFingerprint(size=1024)\n",
    "ecfp = featurizer.featurize(smiles)\n",
    "ecfp.shape"
   ]
  },
  {
   "cell_type": "code",
   "execution_count": 5,
   "id": "366b0926-3b5d-4fa6-b702-0ad881506ff3",
   "metadata": {},
   "outputs": [
    {
     "name": "stderr",
     "output_type": "stream",
     "text": [
      "[16:13:14] DEPRECATION WARNING: please use MorganGenerator\n",
      "[16:13:14] DEPRECATION WARNING: please use MorganGenerator\n",
      "[16:13:14] DEPRECATION WARNING: please use MorganGenerator\n",
      "[16:13:14] DEPRECATION WARNING: please use MorganGenerator\n",
      "[16:13:14] DEPRECATION WARNING: please use MorganGenerator\n"
     ]
    },
    {
     "data": {
      "text/plain": [
       "5"
      ]
     },
     "execution_count": 5,
     "metadata": {},
     "output_type": "execute_result"
    }
   ],
   "source": [
    "# make a dataframe object for creating a CSV file\n",
    "df = pd.DataFrame(list(zip(smiles, properties)), columns=[\"SMILES\", \"property\"])\n",
    "\n",
    "import tempfile\n",
    "\n",
    "with dc.utils.UniversalNamedTemporaryFile(mode='w') as tmpfile:\n",
    "  # dump the CSV file\n",
    "  df.to_csv(tmpfile.name)\n",
    "  # initizalize the featurizer\n",
    "  featurizer = dc.feat.CircularFingerprint(size=1024)\n",
    "  # initizalize the dataloader\n",
    "  loader = dc.data.CSVLoader([\"property\"], feature_field=\"SMILES\", featurizer=featurizer)\n",
    "  # load and featurize the data from the CSV file\n",
    "  dataset = loader.create_dataset(tmpfile.name)\n",
    "    \n",
    "len(dataset)"
   ]
  },
  {
   "cell_type": "code",
   "execution_count": 6,
   "id": "127882f1-bc0c-4f0d-9a7d-6059a9510788",
   "metadata": {},
   "outputs": [
    {
     "data": {
      "text/plain": [
       "(3, 1, 1)"
      ]
     },
     "execution_count": 6,
     "metadata": {},
     "output_type": "execute_result"
    }
   ],
   "source": [
    "splitter = dc.splits.RandomSplitter()\n",
    "\n",
    "# split 5 datapoints in the ratio of train:valid:test = 3:1:1\n",
    "train_dataset, valid_dataset, test_dataset = splitter.train_valid_test_split(\n",
    "  dataset=dataset, frac_train=0.6, frac_valid=0.2, frac_test=0.2\n",
    ")\n",
    "len(train_dataset), len(valid_dataset), len(test_dataset)"
   ]
  },
  {
   "cell_type": "code",
   "execution_count": 7,
   "id": "b093aedf-6402-4a99-9f30-5d887f4d9fa8",
   "metadata": {},
   "outputs": [
    {
     "data": {
      "text/plain": [
       "((1,), (1,))"
      ]
     },
     "execution_count": 7,
     "metadata": {},
     "output_type": "execute_result"
    }
   ],
   "source": [
    "from sklearn.ensemble import RandomForestRegressor\n",
    "\n",
    "rf = RandomForestRegressor()\n",
    "model = dc.models.SklearnModel(model=rf)\n",
    "\n",
    "# model training\n",
    "model.fit(train_dataset)\n",
    "valid_preds = model.predict(valid_dataset)\n",
    "test_preds = model.predict(test_dataset)\n",
    "valid_preds.shape, test_preds.shape "
   ]
  },
  {
   "cell_type": "code",
   "execution_count": 8,
   "id": "19b372d0-04a9-45b1-9beb-eaab1601b1de",
   "metadata": {},
   "outputs": [
    {
     "data": {
      "text/plain": [
       "({'mae_score': 0.7470000000000008},\n",
       " {'mae_score': 1.2359999999999993},\n",
       " {'mae_score': 2.169999999999998})"
      ]
     },
     "execution_count": 8,
     "metadata": {},
     "output_type": "execute_result"
    }
   ],
   "source": [
    "# initialze the metric\n",
    "metric = dc.metrics.Metric(dc.metrics.mae_score)\n",
    "\n",
    "# evaluate the model\n",
    "train_score = model.evaluate(train_dataset, [metric])\n",
    "valid_score = model.evaluate(valid_dataset, [metric])\n",
    "test_score = model.evaluate(test_dataset, [metric])\n",
    "\n",
    "train_score, valid_score, test_score"
   ]
  },
  {
   "cell_type": "markdown",
   "id": "f1ce24e6-ff0f-43e4-a548-fe27c524c81f",
   "metadata": {},
   "source": [
    "# Solubility Dataset"
   ]
  },
  {
   "cell_type": "code",
   "execution_count": 58,
   "id": "31847a2a-6ce2-4ec1-b9b8-3472a2ebfff6",
   "metadata": {},
   "outputs": [],
   "source": [
    "import deepchem as dc\n",
    "import matplotlib.pyplot as plt\n",
    "import numpy as np\n",
    "import pandas as pd\n",
    "import sklearn\n",
    "import torch\n",
    "\n",
    "import sys\n",
    "import logging\n",
    "logger = logging.getLogger()\n",
    "logger.addHandler(logging.StreamHandler(stream=sys.stdout))\n",
    "logger.info(\"test\")\n",
    "\n",
    "import warnings\n",
    "warnings.filterwarnings(\"once\")\n",
    "\n",
    "RANDOM_SEED = 42\n",
    "rng = np.random.default_rng(RANDOM_SEED)"
   ]
  },
  {
   "cell_type": "code",
   "execution_count": 246,
   "id": "156106e8-af9f-47a7-b59f-80fb8ccd1fb6",
   "metadata": {},
   "outputs": [],
   "source": [
    "# TODO: experiment with different featurizers/splitters/transformers\n",
    "FEATURIZER = dc.feat.MolGraphConvFeaturizer(use_edges=True)\n",
    "SPLITTER = dc.splits.RandomSplitter()\n",
    "# SPLITTER = dc.splits.RandomStratifiedSplitter()\n",
    "TRANSFORMERS = [\"normalization\"]"
   ]
  },
  {
   "cell_type": "code",
   "execution_count": 247,
   "id": "84c596a1-6ad0-4bbb-a1b2-3b95a2210336",
   "metadata": {},
   "outputs": [],
   "source": [
    "# function to load in the delaney dataset with specified featurizer\n",
    "# dastaset initially consists of consists of (cid, smiles, log-solubility) tuples\n",
    "def load_featurised_dataset(featurizer, splitter, transformers, **kwargs):\n",
    "    tasks, datasets, transformers = dc.molnet.load_delaney(featurizer=featurizer, \n",
    "                                                           splitter=splitter,\n",
    "                                                           transformers=transformers,\n",
    "                                                           reload=True,\n",
    "                                                           data_dir=\"data\",\n",
    "                                                           save_dir=\"data\",\n",
    "                                                           **kwargs)\n",
    "    return tasks, datasets, transformers"
   ]
  },
  {
   "cell_type": "code",
   "execution_count": 248,
   "id": "cec6d324-1302-450e-bbed-e7ef6ae684e0",
   "metadata": {},
   "outputs": [],
   "source": [
    "# loading in featurised dataset \n",
    "tasks, datasets, transformers = load_featurised_dataset(FEATURIZER,\n",
    "                                                        SPLITTER,\n",
    "                                                        TRANSFORMERS,\n",
    "                                                        seed=42,\n",
    "                                                        log_every_n=100,\n",
    "                                                        frac_train=0.8,\n",
    "                                                        frac_valid=0.1,\n",
    "                                                        frac_test=0.1)\n",
    "\n",
    "train_dataset, valid_dataset, test_dataset = datasets"
   ]
  },
  {
   "cell_type": "code",
   "execution_count": 249,
   "id": "df8d48e3-84e8-44ea-bb6c-3ee4e3e7ff53",
   "metadata": {},
   "outputs": [
    {
     "data": {
      "text/plain": [
       "((901,), (113,), (113,))"
      ]
     },
     "execution_count": 249,
     "metadata": {},
     "output_type": "execute_result"
    }
   ],
   "source": [
    "train_dataset.X.shape, valid_dataset.X.shape, test_dataset.X.shape"
   ]
  },
  {
   "cell_type": "code",
   "execution_count": 250,
   "id": "52a3a316-8444-4757-ae46-fd98dd80050e",
   "metadata": {},
   "outputs": [
    {
     "data": {
      "text/plain": [
       "(-2.4644240280247647e-16, 0.9999999999999997)"
      ]
     },
     "execution_count": 250,
     "metadata": {},
     "output_type": "execute_result"
    },
    {
     "data": {
      "image/png": "[encoded data removed]",
      "text/plain": [
       "<Figure size 640x480 with 1 Axes>"
      ]
     },
     "metadata": {},
     "output_type": "display_data"
    }
   ],
   "source": [
    "plt.hist(train_dataset.y, bins=50);\n",
    "train_dataset.y.mean(), train_dataset.y.std()"
   ]
  },
  {
   "cell_type": "code",
   "execution_count": 251,
   "id": "310e6784-1a15-4b2e-afd7-1ba6354fd47e",
   "metadata": {},
   "outputs": [],
   "source": [
    "LOSS = dc.models.losses.L2Loss()\n",
    "OPTIMIZER = dc.models.optimizers.Adam()\n",
    "BATCH_SIZE = 64\n",
    "MAX_EPOCHS = 200\n",
    "\n",
    "model = dc.models.torch_models.MPNNModel(n_tasks=1,\n",
    "                                         mode='regression', \n",
    "                                         node_out_feats=64,\n",
    "                                         edge_hidden_feats=128,\n",
    "                                         num_step_message_passing=3,\n",
    "                                         num_step_set2set=6,\n",
    "                                         num_layer_set2set=3,\n",
    "                                         number_atom_features=30,\n",
    "                                         number_bond_features=11,\n",
    "                                         batch_size=BATCH_SIZE,\n",
    "                                         device=\"cpu\",\n",
    "                                         optimizer=OPTIMIZER,\n",
    "                                         #learning_rate=0.001,\n",
    "                                         log_frequency=1,\n",
    "                                         model_dir=\"model\",)"
   ]
  },
  {
   "cell_type": "code",
   "execution_count": 252,
   "id": "4a7282d5-f8dc-4239-abe2-1db620ade462",
   "metadata": {
    "scrolled": true
   },
   "outputs": [],
   "source": [
    "from math import ceil\n",
    "\n",
    "train_losses = []\n",
    "train_errors = []\n",
    "valid_errors = []\n",
    "batches_per_epoch = ceil(train_dataset.X.shape[0] / BATCH_SIZE)"
   ]
  },
  {
   "cell_type": "code",
   "execution_count": 253,
   "id": "ffb7d34f-14da-43b8-a88f-10f5c6f00bdc",
   "metadata": {},
   "outputs": [],
   "source": [
    "class EarlyStopper:\n",
    "    def __init__(self, patience=1, min_delta=0):\n",
    "        self.patience = patience\n",
    "        self.min_delta = min_delta\n",
    "        self.counter = 0\n",
    "        self.min_validation_loss = float('inf')\n",
    "\n",
    "    def early_stop(self, validation_loss):\n",
    "        if validation_loss < self.min_validation_loss:\n",
    "            self.min_validation_loss = validation_loss\n",
    "            self.counter = 0\n",
    "        elif validation_loss > (self.min_validation_loss + self.min_delta):\n",
    "            self.counter += 1\n",
    "            if self.counter >= self.patience:\n",
    "                return True\n",
    "        return False"
   ]
  },
  {
   "cell_type": "code",
   "execution_count": 254,
   "id": "11e5fc06-d44b-4f69-95dc-9817cc3287e0",
   "metadata": {
    "scrolled": true
   },
   "outputs": [
    {
     "name": "stdout",
     "output_type": "stream",
     "text": [
      "Epoch   1 | 3.8780 |  0\n",
      "Epoch   2 | 3.8780 --> 3.6928 |  0\n",
      "Epoch   3 | 3.6928 --> 2.7903 |  0\n",
      "Epoch   4 | 2.7903 --> 2.3790 |  0\n",
      "Epoch   5 | 2.3790 --> 1.9869 |  0\n",
      "Epoch   6 | 1.9869 --> 2.0024 |  0\n",
      "Epoch   7 | 2.0024 --> 1.7105 |  1\n",
      "Epoch   8 | 1.7105 --> 1.7135 |  0\n",
      "Epoch   9 | 1.7135 --> 2.0794 |  1\n",
      "Epoch  10 | 2.0794 --> 1.1728 |  2\n",
      "Epoch  11 | 1.1728 --> 1.6262 |  0\n",
      "Epoch  12 | 1.6262 --> 1.2425 |  1\n",
      "Epoch  13 | 1.2425 --> 0.9879 |  2\n",
      "Epoch  14 | 0.9879 --> 1.3319 |  0\n",
      "Epoch  15 | 1.3319 --> 1.8055 |  1\n",
      "Epoch  16 | 1.8055 --> 1.1442 |  2\n",
      "Epoch  17 | 1.1442 --> 1.0122 |  3\n",
      "Epoch  18 | 1.0122 --> 0.8267 |  4\n",
      "Epoch  19 | 0.8267 --> 0.8210 |  0\n",
      "Epoch  20 | 0.8210 --> 1.1335 |  0\n",
      "Epoch  21 | 1.1335 --> 0.7290 |  1\n",
      "Epoch  22 | 0.7290 --> 0.6943 |  0\n",
      "Epoch  23 | 0.6943 --> 1.0656 |  0\n",
      "Epoch  24 | 1.0656 --> 1.3910 |  1\n",
      "Epoch  25 | 1.3910 --> 0.7846 |  2\n",
      "Epoch  26 | 0.7846 --> 0.8906 |  3\n",
      "Epoch  27 | 0.8906 --> 0.7409 |  4\n",
      "Epoch  28 | 0.7409 --> 0.6975 |  5\n",
      "Epoch  29 | 0.6975 --> 0.6941 |  6\n",
      "Epoch  30 | 0.6941 --> 0.6339 |  0\n",
      "Epoch  31 | 0.6339 --> 0.9104 |  0\n",
      "Epoch  32 | 0.9104 --> 0.7287 |  1\n",
      "Epoch  33 | 0.7287 --> 0.8445 |  2\n",
      "Epoch  34 | 0.8445 --> 0.7819 |  3\n",
      "Epoch  35 | 0.7819 --> 0.6444 |  4\n",
      "Epoch  36 | 0.6444 --> 0.6273 |  5\n",
      "Epoch  37 | 0.6273 --> 0.8112 |  0\n",
      "Epoch  38 | 0.8112 --> 0.7532 |  1\n",
      "Epoch  39 | 0.7532 --> 0.6199 |  2\n",
      "Epoch  40 | 0.6199 --> 0.6688 |  0\n",
      "Epoch  41 | 0.6688 --> 0.7328 |  1\n",
      "Epoch  42 | 0.7328 --> 0.8734 |  2\n",
      "Epoch  43 | 0.8734 --> 0.6745 |  3\n",
      "Epoch  44 | 0.6745 --> 0.5525 |  4\n",
      "Epoch  45 | 0.5525 --> 0.8267 |  0\n",
      "Epoch  46 | 0.8267 --> 0.7510 |  1\n",
      "Epoch  47 | 0.7510 --> 0.6656 |  2\n",
      "Epoch  48 | 0.6656 --> 0.6116 |  3\n",
      "Epoch  49 | 0.6116 --> 0.6422 |  4\n",
      "Epoch  50 | 0.6422 --> 0.6274 |  5\n",
      "Epoch  51 | 0.6274 --> 0.5972 |  6\n",
      "Epoch  52 | 0.5972 --> 0.8219 |  7\n",
      "Epoch  53 | 0.8219 --> 0.6958 |  8\n",
      "Epoch  54 | 0.6958 --> 0.5747 |  9\n",
      "Epoch  55 | 0.5747 --> 0.6530 | 10\n",
      "Epoch  56 | 0.6530 --> 0.6623 | 11\n",
      "Epoch  57 | 0.6623 --> 0.7759 | 12\n",
      "Epoch  58 | 0.7759 --> 0.5778 | 13\n",
      "Epoch  59 | 0.5778 --> 0.5995 | 14\n",
      "Epoch  60 | 0.5995 --> 0.7545 | 15\n"
     ]
    }
   ],
   "source": [
    "early_stopper = EarlyStopper(patience=16, min_delta=0)\n",
    "\n",
    "for epoch in range(1, MAX_EPOCHS):\n",
    "    # train model 1 epoch\n",
    "    batch_generator = model.default_generator(train_dataset,\n",
    "                                              epochs=1,\n",
    "                                              mode=\"fit\",\n",
    "                                              deterministic=False,\n",
    "                                              pad_batches=False)\n",
    "    loss = model.fit_generator(batch_generator, all_losses=train_losses,) # appends losses to train_losses\n",
    "\n",
    "    # track stats\n",
    "    \n",
    "    # print(f\"{epoch:3d}/{N_EPOCHS:3d}: {sum(train_losses[-batches_per_epoch:]) / batches_per_epoch}\")\n",
    "    train_mse = model.evaluate(train_dataset, metrics, transformers)[\"mean_squared_error\"]\n",
    "    valid_mse = model.evaluate(valid_dataset, metrics, transformers)[\"mean_squared_error\"]\n",
    "    \n",
    "    if epoch == 1:\n",
    "        print(f\"Epoch {epoch:3d} | {valid_mse:.4f} | {early_stopper.counter:2d}\")\n",
    "    else:\n",
    "        print(f\"Epoch {epoch:3d} | {valid_errors[-1]:.4f} --> {valid_mse:.4f} | {early_stopper.counter:2d}\")\n",
    "        \n",
    "    train_errors.append(train_mse)\n",
    "    valid_errors.append(valid_mse)\n",
    "\n",
    "    # check for early stop\n",
    "    if early_stopper.early_stop(valid_mse):\n",
    "        break"
   ]
  },
  {
   "cell_type": "code",
   "execution_count": 217,
   "id": "ce024c31-cf62-4538-b735-5e44a1b3912d",
   "metadata": {},
   "outputs": [
    {
     "name": "stdout",
     "output_type": "stream",
     "text": [
      "Total training batches: 915\n"
     ]
    }
   ],
   "source": [
    "print(f\"Total training batches: {model.get_global_step()}\")"
   ]
  },
  {
   "cell_type": "code",
   "execution_count": 218,
   "id": "ed35163c-f665-4a3b-8670-536cc7949785",
   "metadata": {},
   "outputs": [
    {
     "data": {
      "text/plain": [
       "[<matplotlib.lines.Line2D at 0x7b4382ae6550>]"
      ]
     },
     "execution_count": 218,
     "metadata": {},
     "output_type": "execute_result"
    },
    {
     "data": {
      "image/png": "[encoded data removed]",
      "text/plain": [
       "<Figure size 640x480 with 1 Axes>"
      ]
     },
     "metadata": {},
     "output_type": "display_data"
    }
   ],
   "source": [
    "plt.plot(train_losses)"
   ]
  },
  {
   "cell_type": "code",
   "execution_count": 219,
   "id": "6af871ba-a4fc-4309-91aa-aff90ed0de21",
   "metadata": {},
   "outputs": [
    {
     "data": {
      "image/png": "[encoded data removed]",
      "text/plain": [
       "<Figure size 640x480 with 1 Axes>"
      ]
     },
     "metadata": {},
     "output_type": "display_data"
    }
   ],
   "source": [
    "plt.plot(train_errors, label=\"train\")\n",
    "plt.plot(valid_errors, label=\"valid\")\n",
    "plt.legend()\n",
    "plt.xlabel(\"epoch\")\n",
    "plt.ylabel(\"MSE\")\n",
    "plt.show()"
   ]
  },
  {
   "cell_type": "code",
   "execution_count": 243,
   "id": "fec35493-9133-4d1e-9e84-466c6b3385b0",
   "metadata": {
    "scrolled": true
   },
   "outputs": [],
   "source": [
    "# METRICS = [dc.metrics.Metric(dc.metrics.mean_absolute_error), \n",
    "#            dc.metrics.Metric(dc.metrics.mean_squared_error)]\n",
    "METRICS = [dc.metrics.Metric(dc.metrics.rms_score),\n",
    "           dc.metrics.Metric(dc.metrics.mean_absolute_error),\n",
    "           dc.metrics.Metric(dc.metrics.r2_score),]\n",
    "split_to_dataset = dict(train=train_dataset,\n",
    "                        valid=valid_dataset,\n",
    "                        test=test_dataset)\n",
    "\n",
    "def split_error(model, metrics, transformers):\n",
    "    for split in \"train\", \"valid\", \"test\":\n",
    "        dataset = split_to_dataset[split]\n",
    "        y_true = transformers[0].untransform(dataset.y)\n",
    "        y_pred = transformers[0].untransform(model.predict_on_batch(dataset.X))\n",
    "        results = {metric: round(v, 5) for metric, v in model.evaluate(dataset, metrics, transformers).items()}\n",
    "        print(f\"{split}: {results} += {((y_true - y_pred)**2).std():.5f}\")"
   ]
  },
  {
   "cell_type": "code",
   "execution_count": 244,
   "id": "dae8123b-997d-4691-86a2-d7d293338f28",
   "metadata": {
    "scrolled": true
   },
   "outputs": [
    {
     "name": "stdout",
     "output_type": "stream",
     "text": [
      "train: {'rms_score': 0.35806, 'mean_absolute_error': 0.273, 'r2_score': 0.97084} += 0.21364\n",
      "valid: {'rms_score': 0.82372, 'mean_absolute_error': 0.60554, 'r2_score': 0.8281} += 1.26631\n",
      "test: {'rms_score': 0.85374, 'mean_absolute_error': 0.63522, 'r2_score': 0.84778} += 1.35141\n"
     ]
    }
   ],
   "source": [
    "split_error(model, METRICS, transformers)"
   ]
  },
  {
   "cell_type": "markdown",
   "id": "6fd9edfd-bb98-452c-bd12-92b775f20dd7",
   "metadata": {},
   "source": [
    "## Benchmarking"
   ]
  },
  {
   "cell_type": "markdown",
   "id": "58b959c2-bd1e-4e7f-b8ae-098281b5a9c7",
   "metadata": {},
   "source": [
    "### MPNN Model"
   ]
  },
  {
   "cell_type": "markdown",
   "id": "45d20353-d09c-445f-a47b-846564a78a6c",
   "metadata": {},
   "source": [
    "MPNN default (RandomSplitter):\n",
    "train: {'mean_squared_error': 0.13890272648743807} +- 0.26452\n",
    "valid: {'mean_squared_error': 0.5141257825522936} +- 0.86895\n",
    "test: {'mean_squared_error': 0.7261491458366378} +- 2.22714"
   ]
  },
  {
   "cell_type": "raw",
   "id": "a7d24f7f-9ad3-42d9-b8b9-93b81b2e43e6",
   "metadata": {},
   "source": [
    "MPNN default (RandomStratifedSplitter):\n",
    "train: {'rms_score': 0.35806, 'mean_absolute_error': 0.273, 'r2_score': 0.97084} += 0.21364\n",
    "valid: {'rms_score': 0.82372, 'mean_absolute_error': 0.60554, 'r2_score': 0.8281} += 1.26631\n",
    "test: {'rms_score': 0.85374, 'mean_absolute_error': 0.63522, 'r2_score': 0.84778} += 1.3514"
   ]
  },
  {
   "cell_type": "code",
   "execution_count": 245,
   "id": "25dbbb90-988e-494f-b58b-a46f7604a316",
   "metadata": {},
   "outputs": [
    {
     "data": {
      "image/png": "[encoded data removed]",
      "text/plain": [
       "<Figure size 1200x400 with 3 Axes>"
      ]
     },
     "metadata": {},
     "output_type": "display_data"
    }
   ],
   "source": [
    "fig = plt.figure(figsize=(12, 4))\n",
    "axs = fig.subplots(1, 3)\n",
    "\n",
    "for i, split in enumerate((\"train\", \"valid\", \"test\")):\n",
    "    dataset = split_to_dataset[split]\n",
    "    y_true = transformers[0].untransform(dataset.y)\n",
    "    y_pred = transformers[0].untransform(model.predict_on_batch(dataset.X))\n",
    "    squared_errors = (y_true - y_pred)**2\n",
    "    axs[i].hist(squared_errors, bins=20, density=True)"
   ]
  },
  {
   "cell_type": "code",
   "execution_count": 231,
   "id": "9c0084a9-43d8-42ae-a1d7-59fbf20575f2",
   "metadata": {},
   "outputs": [
    {
     "name": "stdout",
     "output_type": "stream",
     "text": [
      "ClC4=C(Cl)C5(Cl)C3C1CC(C2OC12)C3C4(Cl)C5(Cl)Cl              : -6.2900 (0.0019), -6.6737 (0.0013)\n",
      "CCCCCCCC(=O)OC                                              : -3.1700 (0.0420), -2.8783 (0.0562)\n",
      "CN(C)C(=O)SCCCCOc1ccccc1                                    : -3.9270 (0.0197), -2.6222 (0.0726)\n",
      "CCCCCCCI                                                    : -4.8100 (0.0081), -5.3164 (0.0049)\n",
      "CC(C)OC=O                                                   : -0.6300 (0.5326), -0.2456 (0.7822)\n",
      "c1ccccc1n2ncc(N)c(Br)c2(=O)                                 : -3.1270 (0.0438), -0.7096 (0.4919)\n",
      "Cc1ccc(C)c2ccccc12                                          : -4.1400 (0.0159), -4.5145 (0.0109)\n",
      "Cc1cc2c3ccccc3ccc2c4ccccc14                                 : -6.5700 (0.0014), -7.9646 (0.0003)\n",
      "CCC(Br)(CC)C(=O)NC(N)=O                                     : -2.6800 (0.0686), -1.6996 (0.1828)\n",
      "O=C2CN(N=Cc1ccc(o1)N(=O)=O)C(=O)N2                          : -3.3800 (0.0340), -1.5253 (0.2176)\n",
      "CC(C)C(C(=O)OC(C#N)c1cccc(Oc2ccccc2)c1)c3ccc(OC(F)F)cc3     : -6.8760 (0.0010), -7.9910 (0.0003)\n",
      "c1ccc2cnccc2c1                                              : -1.4500 (0.2346), -1.8897 (0.1511)\n",
      "CCCC(=C)C                                                   : -3.0300 (0.0483), -2.9638 (0.0516)\n",
      "Cc1ccncc1C                                                  : 0.3600 (1.4333), -0.1486 (0.8619)\n",
      "CC1=CCC(CC1)C(C)=C                                          : -4.2600 (0.0141), -3.7834 (0.0227)\n",
      "CCN(=O)=O                                                   : -0.2200 (0.8025), -0.0156 (0.9845)\n"
     ]
    }
   ],
   "source": [
    "y_pred = model.predict_on_batch(test_dataset.X[:16])\n",
    "for molecule, y_true, y_pred in zip(test_dataset.ids, test_dataset.y, y_pred):\n",
    "    log_sol_true = transformers[0].untransform(y_true).item()\n",
    "    log_sol_pred = transformers[0].untransform(y_pred).item()\n",
    "    sol_true = np.exp(log_sol_true)\n",
    "    sol_pred = np.exp(log_sol_pred)\n",
    "    print(f\"{molecule:60}: {log_sol_true:.4f} ({sol_true:.4f}), {log_sol_pred:.4f} ({sol_pred:.4f})\")"
   ]
  },
  {
   "cell_type": "code",
   "execution_count": 28,
   "id": "980436eb-e7c9-4d7d-b571-e80c634a8c75",
   "metadata": {},
   "outputs": [],
   "source": [
    "import os\n",
    "os.environ['DEEPCHEM_DATA_DIR'] = \"/home/rmrr/career/uncountable/data\"\n",
    "\n",
    "featurizer = dc.feat.MolGraphConvFeaturizer(use_edges=True)\n",
    "splitter = \"random\"\n",
    "# splitter = dc.splits.MolecularWeightSplitter()\n",
    "transformers = [\"normalization\"]\n",
    "\n",
    "tasks, datasets, transformers = dc.molnet.load_qm9(featurizer=featurizer, \n",
    "                                                   splitter=splitter,\n",
    "                                                   transformers=transformers,\n",
    "                                                   reload=True,\n",
    "                                                   data_dir=\"data\",\n",
    "                                                   save_dir=\"data\")\n",
    "\n",
    "train_dataset, valid_dataset, test_dataset = datasets"
   ]
  },
  {
   "cell_type": "code",
   "execution_count": 30,
   "id": "68d11e29-8e51-48ae-83b7-c3ae49b8c938",
   "metadata": {},
   "outputs": [
    {
     "data": {
      "text/plain": [
       "((105576,), (105576, 12), (105576, 12), (105576,))"
      ]
     },
     "execution_count": 30,
     "metadata": {},
     "output_type": "execute_result"
    }
   ],
   "source": [
    "train_dataset.get_shape()"
   ]
  },
  {
   "cell_type": "code",
   "execution_count": 32,
   "id": "42d3a404-72cc-491e-888c-22fa21e86f81",
   "metadata": {},
   "outputs": [],
   "source": [
    "import wandb\n",
    "from deepchem.models import WandbLogger\n",
    "\n",
    "os.environ[\"WANDB_API_KEY\"] = \"#####\"\n",
    "wandb_logger = WandbLogger(project=\"deepchem\")"
   ]
  },
  {
   "cell_type": "code",
   "execution_count": 33,
   "id": "d60d0ddc-89e4-48b5-b702-8852b77f04fa",
   "metadata": {},
   "outputs": [],
   "source": [
    "BATCH_SIZE=32\n",
    "# wandb_logger.experiment.config[\"batch_size\"] = BATCH_SIZE"
   ]
  },
  {
   "cell_type": "code",
   "execution_count": 34,
   "id": "a0875891-3948-463f-b36f-b8e834b01df9",
   "metadata": {},
   "outputs": [],
   "source": [
    "model = dc.models.torch_models.MPNNModel(n_tasks=1,\n",
    "                                         node_out_feats = 64,\n",
    "                                         edge_hidden_feats = 128,\n",
    "                                         num_step_message_passing = 3,\n",
    "                                         num_step_set2set = 6,\n",
    "                                         num_layer_set2set = 3,\n",
    "                                         mode = 'regression',\n",
    "                                         number_atom_features = 30,\n",
    "                                         number_bond_features = 11,\n",
    "                                         self_loop= False,\n",
    "                                         batch_size=BATCH_SIZE,\n",
    "                                         model_dir=\"model\",\n",
    "                                         # wandb=True,\n",
    "                                         learning_rate=0.001, \n",
    "                                         device=\"cpu\",\n",
    "                                         wandb_logger=wandb_logger)"
   ]
  },
  {
   "cell_type": "code",
   "execution_count": 35,
   "id": "927d2dc5-0e12-4bfd-a6ef-0d7b2f27a35d",
   "metadata": {},
   "outputs": [
    {
     "name": "stderr",
     "output_type": "stream",
     "text": [
      "/home/rmrr/.conda/envs/deepchem/lib/python3.11/site-packages/deepchem/models/losses.py:90: UserWarning: Using a target size (torch.Size([32, 12])) that is different to the input size (torch.Size([32, 1])). This will likely lead to incorrect results due to broadcasting. Please ensure they have the same size.\n",
      "  return torch.nn.functional.mse_loss(output,\n",
      "/home/rmrr/.conda/envs/deepchem/lib/python3.11/multiprocessing/pool.py:268: ResourceWarning: unclosed running multiprocessing pool <multiprocessing.pool.ThreadPool state=RUN pool_size=1>\n",
      "  _warn(f\"unclosed running multiprocessing pool {self!r}\",\n"
     ]
    },
    {
     "ename": "KeyboardInterrupt",
     "evalue": "",
     "output_type": "error",
     "traceback": [
      "\u001b[31m---------------------------------------------------------------------------\u001b[39m",
      "\u001b[31mKeyboardInterrupt\u001b[39m                         Traceback (most recent call last)",
      "\u001b[36mCell\u001b[39m\u001b[36m \u001b[39m\u001b[32mIn[35]\u001b[39m\u001b[32m, line 1\u001b[39m\n\u001b[32m----> \u001b[39m\u001b[32m1\u001b[39m loss = \u001b[43mmodel\u001b[49m\u001b[43m.\u001b[49m\u001b[43mfit\u001b[49m\u001b[43m(\u001b[49m\u001b[43mtrain_dataset\u001b[49m\u001b[43m,\u001b[49m\n\u001b[32m      2\u001b[39m \u001b[43m                 \u001b[49m\u001b[43mnb_epoch\u001b[49m\u001b[43m=\u001b[49m\u001b[32;43m10\u001b[39;49m\u001b[43m,\u001b[49m\n\u001b[32m      3\u001b[39m \u001b[43m                 \u001b[49m\u001b[43mrestore\u001b[49m\u001b[43m=\u001b[49m\u001b[38;5;28;43;01mFalse\u001b[39;49;00m\u001b[43m)\u001b[49m\n",
      "\u001b[36mFile \u001b[39m\u001b[32m~/.conda/envs/deepchem/lib/python3.11/site-packages/deepchem/models/torch_models/torch_model.py:338\u001b[39m, in \u001b[36mTorchModel.fit\u001b[39m\u001b[34m(self, dataset, nb_epoch, max_checkpoints_to_keep, checkpoint_interval, deterministic, restore, variables, loss, callbacks, all_losses)\u001b[39m\n\u001b[32m    289\u001b[39m \u001b[38;5;28;01mdef\u001b[39;00m\u001b[38;5;250m \u001b[39m\u001b[34mfit\u001b[39m(\u001b[38;5;28mself\u001b[39m,\n\u001b[32m    290\u001b[39m         dataset: Dataset,\n\u001b[32m    291\u001b[39m         nb_epoch: \u001b[38;5;28mint\u001b[39m = \u001b[32m10\u001b[39m,\n\u001b[32m   (...)\u001b[39m\u001b[32m    298\u001b[39m         callbacks: Union[Callable, List[Callable]] = [],\n\u001b[32m    299\u001b[39m         all_losses: Optional[List[\u001b[38;5;28mfloat\u001b[39m]] = \u001b[38;5;28;01mNone\u001b[39;00m) -> \u001b[38;5;28mfloat\u001b[39m:\n\u001b[32m    300\u001b[39m \u001b[38;5;250m    \u001b[39m\u001b[33;03m\"\"\"Train this model on a dataset.\u001b[39;00m\n\u001b[32m    301\u001b[39m \n\u001b[32m    302\u001b[39m \u001b[33;03m    Parameters\u001b[39;00m\n\u001b[32m   (...)\u001b[39m\u001b[32m    336\u001b[39m \u001b[33;03m    The average loss over the most recent checkpoint interval\u001b[39;00m\n\u001b[32m    337\u001b[39m \u001b[33;03m    \"\"\"\u001b[39;00m\n\u001b[32m--> \u001b[39m\u001b[32m338\u001b[39m     \u001b[38;5;28;01mreturn\u001b[39;00m \u001b[38;5;28;43mself\u001b[39;49m\u001b[43m.\u001b[49m\u001b[43mfit_generator\u001b[49m\u001b[43m(\u001b[49m\n\u001b[32m    339\u001b[39m \u001b[43m        \u001b[49m\u001b[38;5;28;43mself\u001b[39;49m\u001b[43m.\u001b[49m\u001b[43mdefault_generator\u001b[49m\u001b[43m(\u001b[49m\u001b[43mdataset\u001b[49m\u001b[43m,\u001b[49m\n\u001b[32m    340\u001b[39m \u001b[43m                               \u001b[49m\u001b[43mepochs\u001b[49m\u001b[43m=\u001b[49m\u001b[43mnb_epoch\u001b[49m\u001b[43m,\u001b[49m\n\u001b[32m    341\u001b[39m \u001b[43m                               \u001b[49m\u001b[43mdeterministic\u001b[49m\u001b[43m=\u001b[49m\u001b[43mdeterministic\u001b[49m\u001b[43m)\u001b[49m\u001b[43m,\u001b[49m\n\u001b[32m    342\u001b[39m \u001b[43m        \u001b[49m\u001b[43mmax_checkpoints_to_keep\u001b[49m\u001b[43m,\u001b[49m\u001b[43m \u001b[49m\u001b[43mcheckpoint_interval\u001b[49m\u001b[43m,\u001b[49m\u001b[43m \u001b[49m\u001b[43mrestore\u001b[49m\u001b[43m,\u001b[49m\u001b[43m \u001b[49m\u001b[43mvariables\u001b[49m\u001b[43m,\u001b[49m\n\u001b[32m    343\u001b[39m \u001b[43m        \u001b[49m\u001b[43mloss\u001b[49m\u001b[43m,\u001b[49m\u001b[43m \u001b[49m\u001b[43mcallbacks\u001b[49m\u001b[43m,\u001b[49m\u001b[43m \u001b[49m\u001b[43mall_losses\u001b[49m\u001b[43m)\u001b[49m\n",
      "\u001b[36mFile \u001b[39m\u001b[32m~/.conda/envs/deepchem/lib/python3.11/site-packages/deepchem/models/torch_models/torch_model.py:439\u001b[39m, in \u001b[36mTorchModel.fit_generator\u001b[39m\u001b[34m(self, generator, max_checkpoints_to_keep, checkpoint_interval, restore, variables, loss, callbacks, all_losses)\u001b[39m\n\u001b[32m    437\u001b[39m     outputs = [outputs[i] \u001b[38;5;28;01mfor\u001b[39;00m i \u001b[38;5;129;01min\u001b[39;00m \u001b[38;5;28mself\u001b[39m._loss_outputs]\n\u001b[32m    438\u001b[39m batch_loss = loss(outputs, labels, weights)\n\u001b[32m--> \u001b[39m\u001b[32m439\u001b[39m \u001b[43mbatch_loss\u001b[49m\u001b[43m.\u001b[49m\u001b[43mbackward\u001b[49m\u001b[43m(\u001b[49m\u001b[43m)\u001b[49m\n\u001b[32m    440\u001b[39m optimizer.step()\n\u001b[32m    441\u001b[39m \u001b[38;5;28;01mif\u001b[39;00m lr_schedule \u001b[38;5;129;01mis\u001b[39;00m \u001b[38;5;129;01mnot\u001b[39;00m \u001b[38;5;28;01mNone\u001b[39;00m:\n",
      "\u001b[36mFile \u001b[39m\u001b[32m~/.conda/envs/deepchem/lib/python3.11/site-packages/torch/_tensor.py:522\u001b[39m, in \u001b[36mTensor.backward\u001b[39m\u001b[34m(self, gradient, retain_graph, create_graph, inputs)\u001b[39m\n\u001b[32m    512\u001b[39m \u001b[38;5;28;01mif\u001b[39;00m has_torch_function_unary(\u001b[38;5;28mself\u001b[39m):\n\u001b[32m    513\u001b[39m     \u001b[38;5;28;01mreturn\u001b[39;00m handle_torch_function(\n\u001b[32m    514\u001b[39m         Tensor.backward,\n\u001b[32m    515\u001b[39m         (\u001b[38;5;28mself\u001b[39m,),\n\u001b[32m   (...)\u001b[39m\u001b[32m    520\u001b[39m         inputs=inputs,\n\u001b[32m    521\u001b[39m     )\n\u001b[32m--> \u001b[39m\u001b[32m522\u001b[39m \u001b[43mtorch\u001b[49m\u001b[43m.\u001b[49m\u001b[43mautograd\u001b[49m\u001b[43m.\u001b[49m\u001b[43mbackward\u001b[49m\u001b[43m(\u001b[49m\n\u001b[32m    523\u001b[39m \u001b[43m    \u001b[49m\u001b[38;5;28;43mself\u001b[39;49m\u001b[43m,\u001b[49m\u001b[43m \u001b[49m\u001b[43mgradient\u001b[49m\u001b[43m,\u001b[49m\u001b[43m \u001b[49m\u001b[43mretain_graph\u001b[49m\u001b[43m,\u001b[49m\u001b[43m \u001b[49m\u001b[43mcreate_graph\u001b[49m\u001b[43m,\u001b[49m\u001b[43m \u001b[49m\u001b[43minputs\u001b[49m\u001b[43m=\u001b[49m\u001b[43minputs\u001b[49m\n\u001b[32m    524\u001b[39m \u001b[43m\u001b[49m\u001b[43m)\u001b[49m\n",
      "\u001b[36mFile \u001b[39m\u001b[32m~/.conda/envs/deepchem/lib/python3.11/site-packages/torch/autograd/__init__.py:266\u001b[39m, in \u001b[36mbackward\u001b[39m\u001b[34m(tensors, grad_tensors, retain_graph, create_graph, grad_variables, inputs)\u001b[39m\n\u001b[32m    261\u001b[39m     retain_graph = create_graph\n\u001b[32m    263\u001b[39m \u001b[38;5;66;03m# The reason we repeat the same comment below is that\u001b[39;00m\n\u001b[32m    264\u001b[39m \u001b[38;5;66;03m# some Python versions print out the first line of a multi-line function\u001b[39;00m\n\u001b[32m    265\u001b[39m \u001b[38;5;66;03m# calls in the traceback and some print out the last line\u001b[39;00m\n\u001b[32m--> \u001b[39m\u001b[32m266\u001b[39m \u001b[43mVariable\u001b[49m\u001b[43m.\u001b[49m\u001b[43m_execution_engine\u001b[49m\u001b[43m.\u001b[49m\u001b[43mrun_backward\u001b[49m\u001b[43m(\u001b[49m\u001b[43m  \u001b[49m\u001b[38;5;66;43;03m# Calls into the C++ engine to run the backward pass\u001b[39;49;00m\n\u001b[32m    267\u001b[39m \u001b[43m    \u001b[49m\u001b[43mtensors\u001b[49m\u001b[43m,\u001b[49m\n\u001b[32m    268\u001b[39m \u001b[43m    \u001b[49m\u001b[43mgrad_tensors_\u001b[49m\u001b[43m,\u001b[49m\n\u001b[32m    269\u001b[39m \u001b[43m    \u001b[49m\u001b[43mretain_graph\u001b[49m\u001b[43m,\u001b[49m\n\u001b[32m    270\u001b[39m \u001b[43m    \u001b[49m\u001b[43mcreate_graph\u001b[49m\u001b[43m,\u001b[49m\n\u001b[32m    271\u001b[39m \u001b[43m    \u001b[49m\u001b[43minputs\u001b[49m\u001b[43m,\u001b[49m\n\u001b[32m    272\u001b[39m \u001b[43m    \u001b[49m\u001b[43mallow_unreachable\u001b[49m\u001b[43m=\u001b[49m\u001b[38;5;28;43;01mTrue\u001b[39;49;00m\u001b[43m,\u001b[49m\n\u001b[32m    273\u001b[39m \u001b[43m    \u001b[49m\u001b[43maccumulate_grad\u001b[49m\u001b[43m=\u001b[49m\u001b[38;5;28;43;01mTrue\u001b[39;49;00m\u001b[43m,\u001b[49m\n\u001b[32m    274\u001b[39m \u001b[43m\u001b[49m\u001b[43m)\u001b[49m\n",
      "\u001b[36mFile \u001b[39m\u001b[32m~/.conda/envs/deepchem/lib/python3.11/site-packages/torch/autograd/function.py:277\u001b[39m, in \u001b[36mBackwardCFunction.apply\u001b[39m\u001b[34m(self, *args)\u001b[39m\n\u001b[32m    276\u001b[39m \u001b[38;5;28;01mclass\u001b[39;00m\u001b[38;5;250m \u001b[39m\u001b[34;01mBackwardCFunction\u001b[39;00m(_C._FunctionBase, FunctionCtx, _HookMixin):\n\u001b[32m--> \u001b[39m\u001b[32m277\u001b[39m     \u001b[38;5;28;01mdef\u001b[39;00m\u001b[38;5;250m \u001b[39m\u001b[34mapply\u001b[39m(\u001b[38;5;28mself\u001b[39m, *args):\n\u001b[32m    278\u001b[39m         \u001b[38;5;66;03m# _forward_cls is defined by derived class\u001b[39;00m\n\u001b[32m    279\u001b[39m         \u001b[38;5;66;03m# The user should define either backward or vjp but never both.\u001b[39;00m\n\u001b[32m    280\u001b[39m         backward_fn = \u001b[38;5;28mself\u001b[39m._forward_cls.backward  \u001b[38;5;66;03m# type: ignore[attr-defined]\u001b[39;00m\n\u001b[32m    281\u001b[39m         vjp_fn = \u001b[38;5;28mself\u001b[39m._forward_cls.vjp  \u001b[38;5;66;03m# type: ignore[attr-defined]\u001b[39;00m\n",
      "\u001b[31mKeyboardInterrupt\u001b[39m: "
     ]
    }
   ],
   "source": [
    "loss = model.fit(train_dataset,\n",
    "                 nb_epoch=10,\n",
    "                 restore=False)"
   ]
  },
  {
   "cell_type": "code",
   "execution_count": 12,
   "id": "8c7ba38f-ee13-4e0a-8eda-397491f64d73",
   "metadata": {},
   "outputs": [
    {
     "data": {
      "text/plain": [
       "0.2532390818876379"
      ]
     },
     "execution_count": 12,
     "metadata": {},
     "output_type": "execute_result"
    }
   ],
   "source": [
    "loss"
   ]
  },
  {
   "cell_type": "code",
   "execution_count": 13,
   "id": "56aee2c4-2cea-41ae-9d0a-fc31217ebbc5",
   "metadata": {},
   "outputs": [
    {
     "name": "stdout",
     "output_type": "stream",
     "text": [
      "Training set score: {'pearson_r2_score': 0.8369425954252208}\n",
      "Test set score: {'pearson_r2_score': 0.6213956040328277}\n"
     ]
    }
   ],
   "source": [
    "metric = dc.metrics.Metric(dc.metrics.pearson_r2_score)\n",
    "print(\"Training set score:\", model.evaluate(train_dataset, [metric], transformers))\n",
    "print(\"Test set score:\", model.evaluate(test_dataset, [metric], transformers))"
   ]
  },
  {
   "cell_type": "code",
   "execution_count": 15,
   "id": "07d25622-6cc0-4052-9971-3a88d8d36068",
   "metadata": {},
   "outputs": [
    {
     "name": "stdout",
     "output_type": "stream",
     "text": [
      "[-1.376157] [-1.60000553] c1cc2ccc3cccc4ccc(c1)c2c34\n",
      "[0.52692] [0.20952792] Cc1cc(=O)[nH]c(=S)[nH]1\n",
      "[-0.68075764] [-0.01497035] Oc1ccc(cc1)C2(OC(=O)c3ccccc23)c4ccc(O)cc4 \n",
      "[-1.6134826] [-2.82071486] c1ccc2c(c1)cc3ccc4cccc5ccc2c3c45\n",
      "[-1.1654787] [-0.52783277] C1=Cc2cccc3cccc1c23\n",
      "[1.6020465] [1.10268267] CC1CO1\n",
      "[-0.6525793] [-0.88877179] CCN2c1ccccc1N(C)C(=S)c3cccnc23 \n",
      "[-0.7522491] [-0.52541361] CC12CCC3C(CCc4cc(O)ccc34)C2CCC1=O\n",
      "[-0.32961416] [-0.76249152] Cn2cc(c1ccccc1)c(=O)c(c2)c3cccc(c3)C(F)(F)F\n",
      "[0.8767008] [-0.63911424] ClC(Cl)(Cl)C(NC=O)N1C=CN(C=C1)C(NC=O)C(Cl)(Cl)Cl \n"
     ]
    }
   ],
   "source": [
    "solubilities = model.predict_on_batch(test_dataset.X[:10])\n",
    "for molecule, y_pred, y in zip(test_dataset.ids, solubilities, test_dataset.y):\n",
    "    print(y_pred, y, molecule)"
   ]
  },
  {
   "cell_type": "code",
   "execution_count": null,
   "id": "c8023ae1-c80d-4888-be76-8c05dfe0dbed",
   "metadata": {},
   "outputs": [],
   "source": []
  }
 ],
 "metadata": {
  "kernelspec": {
   "display_name": "Python [conda env:.conda-deepchem] *",
   "language": "python",
   "name": "conda-env-.conda-deepchem-py"
  },
  "language_info": {
   "codemirror_mode": {
    "name": "ipython",
    "version": 3
   },
   "file_extension": ".py",
   "mimetype": "text/x-python",
   "name": "python",
   "nbconvert_exporter": "python",
   "pygments_lexer": "ipython3",
   "version": "3.11.13"
  }
 },
 "nbformat": 4,
 "nbformat_minor": 5
}
